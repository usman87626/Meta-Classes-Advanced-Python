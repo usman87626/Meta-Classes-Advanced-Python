{
 "cells": [
  {
   "cell_type": "markdown",
   "id": "be7d42c3",
   "metadata": {},
   "source": [
    "## Facade Design Pattern \n",
    "\n",
    "- Facade pattern hides the complexities of the system and provides an interface to the client using which the client can access the system.\n",
    "\n",
    "- As the name suggests, it means the `face of the building`. The people walking past the road can only see this glass face of the building. They do not know anything about it, the wiring, the pipes and other complexities. It hides all the complexities of the building and displays a friendly face.\n",
    "\n",
    "- Another good example can be the startup process of a computer. When a computer starts up, it involves the work of cpu, memory, hard drive, etc. To make it easy to use for users, we can add a facade which wrap the complexity of the task, and provide one simple interface instead.\n",
    "\n",
    "`Same goes for the Facade Design Pattern. It hides the complexities of the system and provides an interface to the client from where the client can access the system.`"
   ]
  },
  {
   "cell_type": "code",
   "execution_count": 1,
   "id": "822b6274",
   "metadata": {},
   "outputs": [],
   "source": [
    "\"\"\"\n",
    "Let's say we have 3 classes:\n",
    " - `Sensor class` that turns sensor on/off\n",
    " - `Lights Class` that turns the lights on/off\n",
    " - `Smoke Class` that on/off the smoke\n",
    "\"\"\"\n",
    "\n",
    "# Class that handles the Sensor functionality\n",
    "class Sensor(object):\n",
    "    def __init__(self):\n",
    "        pass\n",
    "    \n",
    "    def sensorOn(self):\n",
    "        print(\"Sensor: On\")\n",
    "    \n",
    "    def sensorOff(self):\n",
    "        print(\"Sensor: Off\")\n",
    "\n",
    "# Class that handles the Smoke functionality\n",
    "class Smoke(object):\n",
    "    def __init__(self):\n",
    "        pass\n",
    "    \n",
    "    def smokeOn(self):\n",
    "        print(\"Smoke: On\")\n",
    "    \n",
    "    def smokeOff(self):\n",
    "        print(\"Smoke: Off\")\n",
    "\n",
    "# Class that handles the light functionality\n",
    "class Light(object):\n",
    "    def __init__(self):\n",
    "        pass\n",
    "    \n",
    "    def lightOn(self):\n",
    "        print(\"Light: On\")\n",
    "    \n",
    "    def lightOff(self):\n",
    "        print(\"Light: Off\")"
   ]
  },
  {
   "cell_type": "code",
   "execution_count": 2,
   "id": "51ed520b",
   "metadata": {},
   "outputs": [],
   "source": [
    "\"\"\"\n",
    "Now, we have a scenario that we want to turn on the sensor, lights & smoke when its emergency situation & \n",
    "turn these modules off when there is no emergency.\n",
    "\n",
    "Let's do it using Facade Design Pattern\n",
    "\"\"\"\n",
    "\n",
    "class Facade(object):\n",
    "    def __init__(self):\n",
    "        # Create objects of the above 3 classes\n",
    "        self._sensor = Sensor()\n",
    "        self._smoke = Smoke()\n",
    "        self._light = Light()\n",
    "        \n",
    "    def Emergency(self):\n",
    "        self._sensor.sensorOn()\n",
    "        self._smoke.smokeOn()\n",
    "        self._light.lightOn()\n",
    "        \n",
    "    def NoEmergency(self):\n",
    "        self._sensor.sensorOff()\n",
    "        self._smoke.smokeOff()\n",
    "        self._light.lightOff()"
   ]
  },
  {
   "cell_type": "code",
   "execution_count": 4,
   "id": "fe682b30",
   "metadata": {},
   "outputs": [
    {
     "name": "stdout",
     "output_type": "stream",
     "text": [
      "Enter the value of sensor:66\n",
      "Sensor: On\n",
      "Smoke: On\n",
      "Light: On\n"
     ]
    }
   ],
   "source": [
    "\"\"\"\n",
    "Now the caller of the event doesn't have to worry about what's going behind the scenes & \n",
    "just create object of Facade to call Emergency or Normal situation\n",
    "\"\"\"\n",
    "event = Facade()\n",
    "\n",
    "# let's say we are getting the sensor readings from our IOT device & we want to call emergency when sensor value is > 36\n",
    "sensor_reading = int(input(\"Enter the value of sensor:\"))\n",
    "if sensor_reading > 36:\n",
    "    event.Emergency()\n",
    "else:\n",
    "    event.NoEmergency()"
   ]
  }
 ],
 "metadata": {
  "kernelspec": {
   "display_name": "Python 3 (ipykernel)",
   "language": "python",
   "name": "python3"
  },
  "language_info": {
   "codemirror_mode": {
    "name": "ipython",
    "version": 3
   },
   "file_extension": ".py",
   "mimetype": "text/x-python",
   "name": "python",
   "nbconvert_exporter": "python",
   "pygments_lexer": "ipython3",
   "version": "3.8.3"
  }
 },
 "nbformat": 4,
 "nbformat_minor": 5
}
