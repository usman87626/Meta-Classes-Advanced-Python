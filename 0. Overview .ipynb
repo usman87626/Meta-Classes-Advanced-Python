{
 "cells": [
  {
   "cell_type": "markdown",
   "id": "63e672b5",
   "metadata": {},
   "source": [
    "## Objects & Type\n",
    "\n",
    "`In python3, everything is an object. Classes are objects as well, so what is the type of class?`\n",
    "\n",
    "Let's figure it out:"
   ]
  },
  {
   "cell_type": "code",
   "execution_count": 5,
   "id": "45a88937",
   "metadata": {},
   "outputs": [
    {
     "name": "stdout",
     "output_type": "stream",
     "text": [
      "<class '__main__.Foo'>\n",
      "<class 'type'>\n"
     ]
    }
   ],
   "source": [
    "class Foo:\n",
    "    def __init__(self):\n",
    "        pass\n",
    "\n",
    "x = Foo()\n",
    "\n",
    "# Type of object\n",
    "print(type(x))\n",
    "\n",
    "# Type of class\n",
    "print(type(Foo))"
   ]
  },
  {
   "cell_type": "markdown",
   "id": "bffc7c2d",
   "metadata": {},
   "source": [
    "So, the type of a class is `type`. Don't worry. Let's see the type of the `type`"
   ]
  },
  {
   "cell_type": "code",
   "execution_count": 6,
   "id": "1e2c05d5",
   "metadata": {},
   "outputs": [
    {
     "name": "stdout",
     "output_type": "stream",
     "text": [
      "<class 'type'>\n"
     ]
    }
   ],
   "source": [
    "print(type(type))"
   ]
  },
  {
   "cell_type": "markdown",
   "id": "e30ce028",
   "metadata": {},
   "source": [
    "`Interestingly, type of type is also type.` \n",
    "- Type is a meta class (a class that contains info/control of other classes)\n",
    "- If you know the relation between data and metadata, understanding the relation between class and meta-class would be easy enough.\n",
    "- So, we can use `type` to apply rules on our classes as well as control the creation of objects/methods of our class (we will see how)\n",
    "\n",
    "\n",
    "We can visually represent `type` as:\n",
    "\n",
    "![test](https://files.realpython.com/media/class-chain.5cb031a299fe.png)"
   ]
  },
  {
   "cell_type": "markdown",
   "id": "8f056640",
   "metadata": {},
   "source": [
    "## Defining a class with type\n",
    "\n",
    "- `type()` function returns type of the object when we pass a single argument to it.\n",
    "- It's interesting that we can create a class by passing 3 arguments to this function.\n",
    "\n",
    "`Let's see how`"
   ]
  },
  {
   "cell_type": "code",
   "execution_count": 8,
   "id": "aa655849",
   "metadata": {},
   "outputs": [
    {
     "name": "stdout",
     "output_type": "stream",
     "text": [
      "<class 'float'>\n",
      "<class 'list'>\n",
      "<class 'int'>\n"
     ]
    }
   ],
   "source": [
    "# Type of object/literal\n",
    "print(type(12.3))\n",
    "print(type([1,2,3]))\n",
    "print(type(33))"
   ]
  },
  {
   "cell_type": "code",
   "execution_count": 16,
   "id": "dc53c151",
   "metadata": {},
   "outputs": [
    {
     "name": "stdout",
     "output_type": "stream",
     "text": [
      "<class '__main__.Test'>\n"
     ]
    }
   ],
   "source": [
    "# creating a class\n",
    "Test = type('Test',(),{})\n",
    "# Let's prove the point that its a class\n",
    "obj1 = Test()\n",
    "print(type(obj1))"
   ]
  },
  {
   "cell_type": "code",
   "execution_count": 17,
   "id": "a601c076",
   "metadata": {},
   "outputs": [
    {
     "name": "stdout",
     "output_type": "stream",
     "text": [
      "<class '__main__.Test'>\n"
     ]
    }
   ],
   "source": [
    "# The class definition above is similar to the following definition of class\n",
    "class Test:\n",
    "    pass\n",
    "\n",
    "obj2 = Test()\n",
    "print(type(obj2))"
   ]
  },
  {
   "cell_type": "code",
   "execution_count": 25,
   "id": "d3c9cdbe",
   "metadata": {},
   "outputs": [
    {
     "name": "stdout",
     "output_type": "stream",
     "text": [
      "17\n"
     ]
    }
   ],
   "source": [
    "# Lets pass some attributes\n",
    "# First argument of represents the name of the class\n",
    "# () -> defines parent class (inheritance)\n",
    "# {} -> defines dict valued attributes or {'name':'Usman','username':'usman87626'} or dict(name='Usman',username='usman87626')\n",
    "Foo = type('Foo',(),{'age':17})\n",
    "x = Foo()\n",
    "# Lets print the age\n",
    "print(x.age)"
   ]
  },
  {
   "cell_type": "code",
   "execution_count": 26,
   "id": "9ea805c4",
   "metadata": {},
   "outputs": [
    {
     "name": "stdout",
     "output_type": "stream",
     "text": [
      "17\n"
     ]
    }
   ],
   "source": [
    "# The above class is same as\n",
    "class Foo:\n",
    "    age = 17\n",
    "    \n",
    "x = Foo()\n",
    "print(x.age)"
   ]
  },
  {
   "cell_type": "code",
   "execution_count": 31,
   "id": "07533c65",
   "metadata": {},
   "outputs": [
    {
     "name": "stdout",
     "output_type": "stream",
     "text": [
      "Name: Usman\n"
     ]
    }
   ],
   "source": [
    "# Let's see how can we define method in our class\n",
    "\n",
    "# function we want to add in class\n",
    "def print_name(x):\n",
    "    print(f'Name: {x.name}')\n",
    "\n",
    "Student = type('Student',\n",
    "               (),\n",
    "               {\n",
    "                  'name': 'Usman',\n",
    "                   'printName': print_name\n",
    "                   \n",
    "               }\n",
    "              )\n",
    "\n",
    "usman = Student()\n",
    "usman.printName()"
   ]
  },
  {
   "cell_type": "code",
   "execution_count": 33,
   "id": "f3951266",
   "metadata": {},
   "outputs": [
    {
     "name": "stdout",
     "output_type": "stream",
     "text": [
      "Name: Usman\n",
      "Country: PK\n"
     ]
    }
   ],
   "source": [
    "# Lets see inheritance now\n",
    "# We will inherit a student from Student Class created above\n",
    "def print_country(x):\n",
    "    print(f\"Country: {x.country}\")\n",
    "Usman = type('Usman',\n",
    "             (Student,),\n",
    "             {\n",
    "              'country':'PK',\n",
    "              'printCountry': print_country\n",
    "             }\n",
    "            )\n",
    "\n",
    "obj = Usman()\n",
    "obj.printName()\n",
    "obj.printCountry()"
   ]
  },
  {
   "cell_type": "markdown",
   "id": "dae2104a",
   "metadata": {},
   "source": [
    "`Everytime we create a class, python is actually passing the values (className,attributes,functions) to the type function as we did in the examples above`\n",
    "\n",
    "Lets use what we learned and see the basics of a Meta-class"
   ]
  },
  {
   "cell_type": "code",
   "execution_count": 40,
   "id": "a76f1a98",
   "metadata": {},
   "outputs": [],
   "source": [
    "# We will create a class that will be the child of type meta class and we will pass the arguments there to create it.\n",
    "class Meta(type):\n",
    "    # __new__() is called to create an object in memory\n",
    "    # __new__ automatically calls __call__() and __init__() to create object on runtime\n",
    "    def __new__(cls,name,bases,dict):\n",
    "        # Let's print the values to understand better\n",
    "        print(\"Inside __new__\")\n",
    "        print(f\"cls: {cls}\") # name of the meta class\n",
    "        print(f\"name: {name}\") # Name of the class that is calling the metaclass\n",
    "        print(f\"bases: {bases}\") # Parent of the class using the metaclass\n",
    "        print(f\"dict: {dict}\") # attributes and functions(metadata)\n",
    "        \n",
    "        # Let's pass these values to `type()` to create the object\n",
    "        return super().__new__(cls,name,bases,dict)"
   ]
  },
  {
   "cell_type": "code",
   "execution_count": 41,
   "id": "96c74c9d",
   "metadata": {},
   "outputs": [
    {
     "name": "stdout",
     "output_type": "stream",
     "text": [
      "Inside __new__\n",
      "cls: <class '__main__.Meta'>\n",
      "name: A\n",
      "bases: ()\n",
      "dict: {'__module__': '__main__', '__qualname__': 'A', '__init__': <function A.__init__ at 0x0000023CFFF6ACA0>, 'methodA': <function A.methodA at 0x0000023CFFF6A3A0>}\n"
     ]
    }
   ],
   "source": [
    "# Lets now see how it works\n",
    "# we will be creating a class that will utilize `Meta` class defined above\n",
    "\n",
    "class A(metaclass=Meta):\n",
    "    def __init__(self,a,b):\n",
    "        self.a = a\n",
    "        self.b = b\n",
    "    \n",
    "    def methodA(self):\n",
    "        return self.a,self.b"
   ]
  },
  {
   "cell_type": "markdown",
   "id": "0696d586",
   "metadata": {},
   "source": [
    "`Are you clear with all the concepts discussed till now? `\n",
    "\n",
    "Congratulations ! You got the essence of the meta-classes. We can utilize it in much more ways to acheive so many things. Your imagination is the limit."
   ]
  }
 ],
 "metadata": {
  "kernelspec": {
   "display_name": "Python 3 (ipykernel)",
   "language": "python",
   "name": "python3"
  },
  "language_info": {
   "codemirror_mode": {
    "name": "ipython",
    "version": 3
   },
   "file_extension": ".py",
   "mimetype": "text/x-python",
   "name": "python",
   "nbconvert_exporter": "python",
   "pygments_lexer": "ipython3",
   "version": "3.8.3"
  }
 },
 "nbformat": 4,
 "nbformat_minor": 5
}
