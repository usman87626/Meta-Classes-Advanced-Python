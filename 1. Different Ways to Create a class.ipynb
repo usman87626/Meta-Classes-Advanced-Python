{
 "cells": [
  {
   "cell_type": "markdown",
   "id": "a7df880e",
   "metadata": {},
   "source": [
    "## Method 1"
   ]
  },
  {
   "cell_type": "code",
   "execution_count": 1,
   "id": "3c55122d",
   "metadata": {},
   "outputs": [
    {
     "name": "stdout",
     "output_type": "stream",
     "text": [
      "<__main__.A object at 0x00000224AE2673A0>\n"
     ]
    }
   ],
   "source": [
    "class A(object):\n",
    "    def __init__(self):\n",
    "        pass\n",
    "\n",
    "obj1 = A()\n",
    "print(obj1)"
   ]
  },
  {
   "cell_type": "markdown",
   "id": "458ce8cf",
   "metadata": {},
   "source": [
    "## Method 2"
   ]
  },
  {
   "cell_type": "code",
   "execution_count": 3,
   "id": "d68b7b37",
   "metadata": {},
   "outputs": [
    {
     "name": "stdout",
     "output_type": "stream",
     "text": [
      "<__main__.B object at 0x00000224AE5FA790>\n"
     ]
    }
   ],
   "source": [
    "class B(object):\n",
    "    def __call__(cls,*args,**kwargs):\n",
    "        return super(B,cls).__call__(cls,*args,**kwargs)\n",
    "\n",
    "obj2 = B()\n",
    "print(obj2)"
   ]
  },
  {
   "cell_type": "markdown",
   "id": "0caa7ad7",
   "metadata": {},
   "source": [
    "## Method 3"
   ]
  },
  {
   "cell_type": "code",
   "execution_count": 15,
   "id": "20d396df",
   "metadata": {},
   "outputs": [
    {
     "name": "stdout",
     "output_type": "stream",
     "text": [
      "Creating object in memory\n",
      "Creating instance of class\n",
      "<__main__.C object at 0x00000224B09C8940>\n"
     ]
    }
   ],
   "source": [
    "class C(object):\n",
    "    def __new__(cls,*args,**kwargs):\n",
    "        print(\"Creating object in memory\")\n",
    "        return super(C,cls).__new__(cls,*args,**kwargs)\n",
    "    \n",
    "    def __init__(self,*args,**kwargs):\n",
    "        print(\"Creating instance of class\")\n",
    "        super(C,self).__init__(*args,**kwargs)\n",
    "\n",
    "obj3 = C()\n",
    "print(obj3)"
   ]
  },
  {
   "cell_type": "markdown",
   "id": "081ff4d5",
   "metadata": {},
   "source": [
    "# Method 4 (using meta-class)"
   ]
  },
  {
   "cell_type": "code",
   "execution_count": 17,
   "id": "aed9ca59",
   "metadata": {},
   "outputs": [
    {
     "name": "stdout",
     "output_type": "stream",
     "text": [
      "<__main__.E object at 0x00000224B09C8E50>\n"
     ]
    }
   ],
   "source": [
    "class D(type):\n",
    "    def __call__(cls,*args,**kwargs):\n",
    "        return super(D,cls).__call__(*args,**kwargs)\n",
    "    \n",
    "    def __init__(cls,name,base,attr):\n",
    "        super(D,cls).__init__(name,base,attr)\n",
    "        \n",
    "class E(metaclass=D):\n",
    "    pass\n",
    "obj4 = E()\n",
    "print(obj4)"
   ]
  },
  {
   "cell_type": "markdown",
   "id": "a6f16fba",
   "metadata": {},
   "source": [
    "# Method 5 (meta)"
   ]
  },
  {
   "cell_type": "code",
   "execution_count": 13,
   "id": "4b7df7d0",
   "metadata": {},
   "outputs": [
    {
     "name": "stdout",
     "output_type": "stream",
     "text": [
      "<__main__.G object at 0x00000224B0B288B0>\n"
     ]
    }
   ],
   "source": [
    "class F(type):\n",
    "    def __call__(cls,*args,**kwargs):\n",
    "        return super(F,cls).__call__(*args,**kwargs)\n",
    "    \n",
    "    def __init__(cls,name,base,attr):\n",
    "        super(F,cls).__init__(name,base,attr)\n",
    "        \n",
    "class G(metaclass=F):\n",
    "    def __new__(cls,*args,**kwargs):\n",
    "        return super(G,cls).__new__(cls,*args,**kwargs)\n",
    "    \n",
    "    def __init__(self,*args,**kwargs):\n",
    "        super(G,self).__init__(*args,**kwargs)\n",
    "\n",
    "obj5 = G()\n",
    "print(obj5)"
   ]
  }
 ],
 "metadata": {
  "kernelspec": {
   "display_name": "Python 3 (ipykernel)",
   "language": "python",
   "name": "python3"
  },
  "language_info": {
   "codemirror_mode": {
    "name": "ipython",
    "version": 3
   },
   "file_extension": ".py",
   "mimetype": "text/x-python",
   "name": "python",
   "nbconvert_exporter": "python",
   "pygments_lexer": "ipython3",
   "version": "3.8.3"
  }
 },
 "nbformat": 4,
 "nbformat_minor": 5
}
