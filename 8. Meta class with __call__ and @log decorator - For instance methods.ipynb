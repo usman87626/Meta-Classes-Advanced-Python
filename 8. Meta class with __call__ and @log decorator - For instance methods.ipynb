{
 "cells": [
  {
   "cell_type": "code",
   "execution_count": 1,
   "id": "b50b7b79",
   "metadata": {},
   "outputs": [],
   "source": [
    "\"\"\" \n",
    "To implement the same logging wrapper for instance methods, we have to simply add a Meta class and that's it.\n",
    "Let's copy paste the whole code from previous notebook with an additional meta class on the top\n",
    "\"\"\"\n",
    "try:\n",
    "    import datetime\n",
    "    import os\n",
    "    import sys\n",
    "    import logging\n",
    "except Exception as e:\n",
    "    print(f\"[Missing module] :> {e}\")"
   ]
  },
  {
   "cell_type": "code",
   "execution_count": 2,
   "id": "275fb685",
   "metadata": {},
   "outputs": [],
   "source": [
    "# Meta class\n",
    "class Meta(type):\n",
    "    \"\"\" \n",
    "    Meta Class\n",
    "    \"\"\"\n",
    "    def __call__(cls,*args,**kwargs):\n",
    "        instance = super(Meta,cls).__call__(*args,**kwargs)\n",
    "        return instance\n",
    "\n",
    "    def __init__(cls,name,base,attr):\n",
    "        super(Meta,cls).__init__(name,base,attr)"
   ]
  },
  {
   "cell_type": "code",
   "execution_count": 5,
   "id": "ee2e4455",
   "metadata": {},
   "outputs": [],
   "source": [
    "# Code from previous notebook\n",
    "class log(object):\n",
    "    # Constructor that will take a function as an argument\n",
    "    def __init__(self,func):\n",
    "        self.func = func\n",
    "    \n",
    "    def __call__(self,*args,**kwargs):\n",
    "        \"\"\"\n",
    "            Wrapper function\n",
    "        \"\"\"\n",
    "        start = datetime.datetime.now()       #start time\n",
    "        Tem = self.func(self,*args,**kwargs)  #call the function\n",
    "        FuncName = self.func.__name__         #get Function name\n",
    "        end = datetime.datetime.now()         # End time\n",
    "        \n",
    "        logs_data = f\"\"\"\n",
    "            Function: {FuncName} (static method)\n",
    "            Execution Time: {end-start}\n",
    "            Address: {FuncName}\n",
    "            Memory: {sys.getsizeof(self.func)} Bytes\n",
    "            Date: {start}\n",
    "        \n",
    "        \"\"\"\n",
    "        \n",
    "        cwd = os.getcwd()\n",
    "        # Name of folder to store logs\n",
    "        folder = \"logs\"\n",
    "        # Path for our Folder\n",
    "        newPath = os.path.join(cwd,folder)\n",
    "        \n",
    "        try:\n",
    "            \"\"\" Try to create a folder \"\"\"\n",
    "            os.mkdir(newPath)\n",
    "            logging.basicConfig(filename=f'{newPath}/log.log',level=logging.DEBUG)\n",
    "            logging.debug(logs_data)\n",
    "        except:\n",
    "            \"\"\" Directory already exists \"\"\"\n",
    "            logging.basicConfig(filename=f'{newPath}/log.log',level=logging.DEBUG)\n",
    "            logging.debug(logs_data)\n",
    "        \n",
    "        return Tem # Return function back as it has been called\n",
    "    \n",
    "class Test(metaclass=Meta):\n",
    "    def __init__(self,*args,**kwargs):\n",
    "        pass\n",
    "    \n",
    "    @log\n",
    "    def methodA(self):\n",
    "        print(\"Hello World!\")"
   ]
  },
  {
   "cell_type": "code",
   "execution_count": 6,
   "id": "c43bdb5a",
   "metadata": {},
   "outputs": [
    {
     "name": "stdout",
     "output_type": "stream",
     "text": [
      "Hello World!\n"
     ]
    }
   ],
   "source": [
    "obj = Test()\n",
    "obj.methodA()"
   ]
  },
  {
   "cell_type": "code",
   "execution_count": null,
   "id": "a6b4896c",
   "metadata": {},
   "outputs": [],
   "source": []
  }
 ],
 "metadata": {
  "kernelspec": {
   "display_name": "Python 3 (ipykernel)",
   "language": "python",
   "name": "python3"
  },
  "language_info": {
   "codemirror_mode": {
    "name": "ipython",
    "version": 3
   },
   "file_extension": ".py",
   "mimetype": "text/x-python",
   "name": "python",
   "nbconvert_exporter": "python",
   "pygments_lexer": "ipython3",
   "version": "3.8.3"
  }
 },
 "nbformat": 4,
 "nbformat_minor": 5
}
