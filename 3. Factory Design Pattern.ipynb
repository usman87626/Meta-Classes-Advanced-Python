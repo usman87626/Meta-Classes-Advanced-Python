{
 "cells": [
  {
   "cell_type": "markdown",
   "id": "3a4c9824",
   "metadata": {},
   "source": [
    "## Factory Design Pattern\n",
    "\n",
    "Let's say we have a use case where we don't know about the number of `classes` or `objects` that will be created by us or any of the user of our class. In this scenario, we can implement `Factory Design Pattern` to solve the problem.\n",
    "<hr>\n",
    "Let's learn it with an example"
   ]
  },
  {
   "cell_type": "code",
   "execution_count": 4,
   "id": "a20628f5",
   "metadata": {},
   "outputs": [
    {
     "name": "stdout",
     "output_type": "stream",
     "text": [
      "In class A\n",
      "In class B\n"
     ]
    }
   ],
   "source": [
    "class A(object):\n",
    "    def __init__(self):\n",
    "        pass\n",
    "    \n",
    "    def method1(self):\n",
    "        print(\"In class A\")\n",
    "        \n",
    "class B(object):\n",
    "    def __init__(self):\n",
    "        pass\n",
    "    \n",
    "    def method2(self):\n",
    "        print(\"In class B\")\n",
    "    \n",
    "# maybe we need more in future, so it's hard to call each and every class\n",
    "# we can do it by defining a function as shown below\n",
    "\n",
    "def get(obj=''):\n",
    "    objs = dict(a=A(),\n",
    "                b=B()\n",
    "               )\n",
    "    return objs[obj]\n",
    "\n",
    "a = get('a')\n",
    "a.method1()\n",
    "\n",
    "b = get('b')\n",
    "b.method2()"
   ]
  }
 ],
 "metadata": {
  "kernelspec": {
   "display_name": "Python 3 (ipykernel)",
   "language": "python",
   "name": "python3"
  },
  "language_info": {
   "codemirror_mode": {
    "name": "ipython",
    "version": 3
   },
   "file_extension": ".py",
   "mimetype": "text/x-python",
   "name": "python",
   "nbconvert_exporter": "python",
   "pygments_lexer": "ipython3",
   "version": "3.8.3"
  }
 },
 "nbformat": 4,
 "nbformat_minor": 5
}
