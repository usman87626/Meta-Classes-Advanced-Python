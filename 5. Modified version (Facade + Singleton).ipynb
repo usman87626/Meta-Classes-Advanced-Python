{
 "cells": [
  {
   "cell_type": "markdown",
   "id": "2ca485aa",
   "metadata": {},
   "source": [
    "## Facade with Singleton Pattern\n",
    "\n",
    "- We have already implemented Facade where we wrote the code that can be used by any IOT device to trigger different events during any desired/required situation.\n",
    "\n",
    "- Now, we don't want anyone to create another object to turn on/off the emergency situation (maybe for any reason). So, we will add Singleton pattern on top of Facade to restrict programmers from creating more than one object."
   ]
  },
  {
   "cell_type": "code",
   "execution_count": 1,
   "id": "9c24bb1c",
   "metadata": {},
   "outputs": [],
   "source": [
    "# Singleton Pattern\n",
    "class MetaClass(type):\n",
    "    \"\"\"\n",
    "        Singleton Design Pattern Meta Class\n",
    "    \"\"\"\n",
    "    # Private variable (Class variable)\n",
    "    _instance = {}\n",
    "    \n",
    "    def __call__(cls,*args,**kwargs):\n",
    "        \"\"\" \n",
    "            if instance already exists, don't create another\n",
    "        \"\"\"\n",
    "        if cls not in cls._instance:\n",
    "            cls._instance[cls] = super(MetaClass,cls).__call__(*args,**kwargs)\n",
    "            return cls._instance[cls]"
   ]
  },
  {
   "cell_type": "code",
   "execution_count": 4,
   "id": "3b52f340",
   "metadata": {},
   "outputs": [],
   "source": [
    "## Facade Pattern\n",
    "\n",
    "# Class that handles the Sensor functionality\n",
    "class Sensor(object):\n",
    "    def __init__(self):\n",
    "        pass\n",
    "    \n",
    "    def sensorOn(self):\n",
    "        print(\"Sensor: On\")\n",
    "    \n",
    "    def sensorOff(self):\n",
    "        print(\"Sensor: Off\")\n",
    "\n",
    "# Class that handles the Smoke functionality\n",
    "class Smoke(object):\n",
    "    def __init__(self):\n",
    "        pass\n",
    "    \n",
    "    def smokeOn(self):\n",
    "        print(\"Smoke: On\")\n",
    "    \n",
    "    def smokeOff(self):\n",
    "        print(\"Smoke: Off\")\n",
    "\n",
    "# Class that handles the light functionality\n",
    "class Light(object):\n",
    "    def __init__(self):\n",
    "        pass\n",
    "    \n",
    "    def lightOn(self):\n",
    "        print(\"Light: On\")\n",
    "    \n",
    "    def lightOff(self):\n",
    "        print(\"Light: Off\")\n",
    "        \n",
    "\n",
    "\n",
    "# Facade Pattern\n",
    "class Facade(metaclass=MetaClass):\n",
    "    def __init__(self):\n",
    "        # Create objects of the above 3 classes\n",
    "        self._sensor = Sensor()\n",
    "        self._smoke = Smoke()\n",
    "        self._light = Light()\n",
    "        \n",
    "    def Emergency(self):\n",
    "        self._sensor.sensorOn()\n",
    "        self._smoke.smokeOn()\n",
    "        self._light.lightOn()\n",
    "        \n",
    "    def NoEmergency(self):\n",
    "        self._sensor.sensorOff()\n",
    "        self._smoke.smokeOff()\n",
    "        self._light.lightOff()"
   ]
  },
  {
   "cell_type": "code",
   "execution_count": 5,
   "id": "b4e1956d",
   "metadata": {},
   "outputs": [
    {
     "name": "stdout",
     "output_type": "stream",
     "text": [
      "<__main__.Facade object at 0x000001DFBA395820>\n",
      "None\n"
     ]
    }
   ],
   "source": [
    "if __name__ == \"__main__\":\n",
    "    event = Facade()\n",
    "    print(event)\n",
    "    \n",
    "    # It won't be created now\n",
    "    anotherEvent = Facade()\n",
    "    print(anotherEvent)"
   ]
  }
 ],
 "metadata": {
  "kernelspec": {
   "display_name": "Python 3 (ipykernel)",
   "language": "python",
   "name": "python3"
  },
  "language_info": {
   "codemirror_mode": {
    "name": "ipython",
    "version": 3
   },
   "file_extension": ".py",
   "mimetype": "text/x-python",
   "name": "python",
   "nbconvert_exporter": "python",
   "pygments_lexer": "ipython3",
   "version": "3.8.3"
  }
 },
 "nbformat": 4,
 "nbformat_minor": 5
}
