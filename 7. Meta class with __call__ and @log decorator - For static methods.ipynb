{
 "cells": [
  {
   "cell_type": "code",
   "execution_count": 7,
   "id": "6edf2f49",
   "metadata": {},
   "outputs": [],
   "source": [
    "# Importing some useful modules\n",
    "try:\n",
    "    import datetime\n",
    "    import os\n",
    "    import sys\n",
    "    import logging\n",
    "except Exception as e:\n",
    "    print(f\"[Missing module] :> {e}\")"
   ]
  },
  {
   "cell_type": "code",
   "execution_count": 13,
   "id": "e06dff1a",
   "metadata": {},
   "outputs": [],
   "source": [
    "\"\"\" \n",
    "Let's create a logger that can be used as a decorator on any class to log its information like:\n",
    " - How much time it takes to complete that function\n",
    " - Name of the function\n",
    " - Time/date when it was called\n",
    " - Memory address of that function and so on and on\n",
    "\"\"\"\n",
    "class log(object):\n",
    "    # Constructor that will take a function as an argument\n",
    "    def __init__(self,func):\n",
    "        self.func = func\n",
    "    \n",
    "    def __call__(self,*args,**kwargs):\n",
    "        \"\"\"\n",
    "            Wrapper function\n",
    "        \"\"\"\n",
    "        start = datetime.datetime.now()       #start time\n",
    "        Tem = self.func(*args,**kwargs)  #call the function\n",
    "        FuncName = self.func.__name__         #get Function name\n",
    "        end = datetime.datetime.now()         # End time\n",
    "        \n",
    "        logs_data = f\"\"\"\n",
    "        \n",
    "            Function: {FuncName} (static method)\n",
    "            Execution Time: {end-start}\n",
    "            Address: {FuncName}\n",
    "            Memory: {sys.getsizeof(self.func)} Bytes\n",
    "            Date: {start}\n",
    "        \n",
    "        \"\"\"\n",
    "        \n",
    "        cwd = os.getcwd()\n",
    "        # Name of folder to store logs\n",
    "        folder = \"logs\"\n",
    "        # Path for our Folder\n",
    "        newPath = os.path.join(cwd,folder)\n",
    "        \n",
    "        try:\n",
    "            \"\"\" Try to create a folder \"\"\"\n",
    "            os.mkdir(newPath)\n",
    "        except:\n",
    "            \"\"\" Directory already exists \"\"\"\n",
    "            logging.basicConfig(filename=f'{newPath}/log.log',level=logging.DEBUG)\n",
    "            logging.debug(logs_data)\n",
    "        \n",
    "        return Tem # Return function back as it has been called"
   ]
  },
  {
   "cell_type": "code",
   "execution_count": 14,
   "id": "e93fb58a",
   "metadata": {},
   "outputs": [],
   "source": [
    "## Let's create a class to test our logger\n",
    "class Test(object):\n",
    "    def __init__(self,*args,**kwargs):\n",
    "        pass\n",
    "    \n",
    "    @log\n",
    "    def methodA():\n",
    "        print(\"Hello World!\")"
   ]
  },
  {
   "cell_type": "code",
   "execution_count": 16,
   "id": "e7770aeb",
   "metadata": {},
   "outputs": [
    {
     "name": "stdout",
     "output_type": "stream",
     "text": [
      "Hello World!\n",
      "Hello World!\n"
     ]
    }
   ],
   "source": [
    "obj = Test()\n",
    "obj.methodA()\n",
    "Test.methodA()"
   ]
  },
  {
   "cell_type": "code",
   "execution_count": null,
   "id": "e06a43ec",
   "metadata": {},
   "outputs": [],
   "source": []
  }
 ],
 "metadata": {
  "kernelspec": {
   "display_name": "Python 3 (ipykernel)",
   "language": "python",
   "name": "python3"
  },
  "language_info": {
   "codemirror_mode": {
    "name": "ipython",
    "version": 3
   },
   "file_extension": ".py",
   "mimetype": "text/x-python",
   "name": "python",
   "nbconvert_exporter": "python",
   "pygments_lexer": "ipython3",
   "version": "3.8.3"
  }
 },
 "nbformat": 4,
 "nbformat_minor": 5
}
