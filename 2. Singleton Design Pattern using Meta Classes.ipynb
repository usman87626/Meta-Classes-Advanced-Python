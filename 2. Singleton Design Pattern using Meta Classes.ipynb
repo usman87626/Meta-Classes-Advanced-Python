{
 "cells": [
  {
   "cell_type": "code",
   "execution_count": 6,
   "id": "34a9483b",
   "metadata": {},
   "outputs": [
    {
     "name": "stdout",
     "output_type": "stream",
     "text": [
      "<__main__.Test object at 0x0000021C6DCE6460>\n",
      "<__main__.Test object at 0x0000021C6DCE6250>\n"
     ]
    }
   ],
   "source": [
    "class Test(object):\n",
    "    def __init__(self):\n",
    "        pass\n",
    "\n",
    "obj1 = Test()\n",
    "print(obj1)\n",
    "\n",
    "obj2 = Test()\n",
    "print(obj2)"
   ]
  },
  {
   "cell_type": "markdown",
   "id": "a637a975",
   "metadata": {},
   "source": [
    "## Singleton Design Pattern\n",
    "\n",
    "From the above example, it can be seen that whenever we create an object, it will be created to a new memory location. In our case `obj1` is created at `0x0000021C6DCE6460` while `obj2` is created at `0x0000021C6DCE6250` mem location.\n",
    "\n",
    "- In some applications (depends on our use-case), we can restrict the programmer to create more than one object for our class & we can do it by simply using the `Singleton Design Pattern`\n",
    "\n",
    "<hr>\n",
    "Let's implement it using Meta Class\n"
   ]
  },
  {
   "cell_type": "code",
   "execution_count": 16,
   "id": "6a2f7d27",
   "metadata": {},
   "outputs": [
    {
     "name": "stdout",
     "output_type": "stream",
     "text": [
      "<__main__.State object at 0x0000021C6DE07670>\n",
      "None\n"
     ]
    }
   ],
   "source": [
    "class MetaClass(type):\n",
    "    \"\"\"\n",
    "        Singleton Design Pattern Meta Class\n",
    "    \"\"\"\n",
    "    \n",
    "    # Private variable (Class variable)\n",
    "    _instance = {}\n",
    "    \n",
    "    def __call__(cls,*args,**kwargs):\n",
    "        \"\"\" \n",
    "            if instance already exists, don't create another\n",
    "        \"\"\"\n",
    "        if cls not in cls._instance:\n",
    "            cls._instance[cls] = super(MetaClass,cls).__call__(*args,**kwargs)\n",
    "            return cls._instance[cls]\n",
    "        \n",
    "\n",
    "# Implementing a class using MetaClass created above\n",
    "class State(metaclass=MetaClass):\n",
    "    def __init__(self):\n",
    "        pass\n",
    "    \n",
    "state_of_app = State()\n",
    "state_of_app2 = State()\n",
    "print(state_of_app)\n",
    "print(state_of_app2)"
   ]
  },
  {
   "cell_type": "code",
   "execution_count": null,
   "id": "0fd4eea4",
   "metadata": {},
   "outputs": [],
   "source": []
  }
 ],
 "metadata": {
  "kernelspec": {
   "display_name": "Python 3 (ipykernel)",
   "language": "python",
   "name": "python3"
  },
  "language_info": {
   "codemirror_mode": {
    "name": "ipython",
    "version": 3
   },
   "file_extension": ".py",
   "mimetype": "text/x-python",
   "name": "python",
   "nbconvert_exporter": "python",
   "pygments_lexer": "ipython3",
   "version": "3.8.3"
  }
 },
 "nbformat": 4,
 "nbformat_minor": 5
}
