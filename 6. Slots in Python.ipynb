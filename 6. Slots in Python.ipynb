{
 "cells": [
  {
   "cell_type": "code",
   "execution_count": 4,
   "id": "c57321eb",
   "metadata": {},
   "outputs": [
    {
     "name": "stdout",
     "output_type": "stream",
     "text": [
      "<__main__.A object at 0x00000156421D8AC0>\n",
      "Test\n"
     ]
    }
   ],
   "source": [
    "class A(object):\n",
    "    def __init__(self):\n",
    "        pass\n",
    "\n",
    "obj = A()\n",
    "print(obj)\n",
    "obj.name = \"Test\"\n",
    "print(obj.name)"
   ]
  },
  {
   "cell_type": "markdown",
   "id": "ee9fff65",
   "metadata": {},
   "source": [
    "- In the above example, we are creating attributes of class outside the class during runtime.\n",
    "- In some scenarios, maybe it's useful for your use-case but we can restrict programmers/user from doing so.\n",
    "\n",
    "`Generally, Python stores all of its class attributes in dictionary known as slots`\n",
    "\n",
    "- We can use `__slots__` to restrict the creation of attributes outside the class, so let's do it."
   ]
  },
  {
   "cell_type": "code",
   "execution_count": 6,
   "id": "ae5119ad",
   "metadata": {},
   "outputs": [
    {
     "name": "stdout",
     "output_type": "stream",
     "text": [
      "<__main__.A object at 0x000001564230A460>\n"
     ]
    },
    {
     "ename": "AttributeError",
     "evalue": "'A' object has no attribute 'age'",
     "output_type": "error",
     "traceback": [
      "\u001b[1;31m---------------------------------------------------------------------------\u001b[0m",
      "\u001b[1;31mAttributeError\u001b[0m                            Traceback (most recent call last)",
      "Input \u001b[1;32mIn [6]\u001b[0m, in \u001b[0;36m<cell line: 18>\u001b[1;34m()\u001b[0m\n\u001b[0;32m     16\u001b[0m obj \u001b[38;5;241m=\u001b[39m A(\u001b[38;5;124m\"\u001b[39m\u001b[38;5;124mTest\u001b[39m\u001b[38;5;124m\"\u001b[39m)\n\u001b[0;32m     17\u001b[0m \u001b[38;5;28mprint\u001b[39m(obj)\n\u001b[1;32m---> 18\u001b[0m obj\u001b[38;5;241m.\u001b[39mage \u001b[38;5;241m=\u001b[39m \u001b[38;5;241m123\u001b[39m\n\u001b[0;32m     19\u001b[0m \u001b[38;5;28mprint\u001b[39m(obj\u001b[38;5;241m.\u001b[39mage)\n",
      "\u001b[1;31mAttributeError\u001b[0m: 'A' object has no attribute 'age'"
     ]
    }
   ],
   "source": [
    "## We have a class with only one attribute \"name\" and we don't need more attributes\n",
    "## Using the previous example for understanding\n",
    "class A(object):\n",
    "    \n",
    "    # we can use list for slots as well as tuple\n",
    "    \n",
    "    ## tuple version\n",
    "    __slots__ = (\"name\")\n",
    "    \n",
    "    ## List version\n",
    "    # __slots__ = [\"name\"]\n",
    "    \n",
    "    def __init__(self,name):\n",
    "        self.name = name\n",
    "\n",
    "obj = A(\"Test\")\n",
    "print(obj)\n",
    "# We will get an error as we cannot add any other attribute except `name`\n",
    "obj.age = 123\n",
    "print(obj.age)"
   ]
  }
 ],
 "metadata": {
  "kernelspec": {
   "display_name": "Python 3 (ipykernel)",
   "language": "python",
   "name": "python3"
  },
  "language_info": {
   "codemirror_mode": {
    "name": "ipython",
    "version": 3
   },
   "file_extension": ".py",
   "mimetype": "text/x-python",
   "name": "python",
   "nbconvert_exporter": "python",
   "pygments_lexer": "ipython3",
   "version": "3.8.3"
  }
 },
 "nbformat": 4,
 "nbformat_minor": 5
}
